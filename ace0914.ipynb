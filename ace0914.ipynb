{
 "cells": [
  {
   "cell_type": "code",
   "execution_count": 16,
   "metadata": {},
   "outputs": [],
   "source": [
    "import pandas as pd \n",
    "import numpy as np \n",
    "import matplotlib.pyplot as plt "
   ]
  },
  {
   "cell_type": "code",
   "execution_count": 17,
   "metadata": {},
   "outputs": [],
   "source": [
    "columns = ['potential', '20ppm','50ppm','80ppm','100ppm','150ppm','200ppm','250ppm']"
   ]
  },
  {
   "cell_type": "code",
   "execution_count": 19,
   "metadata": {},
   "outputs": [
    {
     "name": "stdout",
     "output_type": "stream",
     "text": [
      "(900, 8)\n",
      "     potential  20ppm  50ppm  80ppm  100ppm  150ppm  200ppm  250ppm\n",
      "0       -0.700 -5.611 -5.649 -5.654  -5.665  -5.683  -5.701  -5.711\n",
      "1       -0.699 -5.619 -5.656 -5.662  -5.672  -5.690  -5.708  -5.718\n",
      "2       -0.698 -5.626 -5.663 -5.669  -5.679  -5.696  -5.714  -5.724\n",
      "3       -0.697 -5.633 -5.670 -5.675  -5.686  -5.702  -5.720  -5.730\n",
      "4       -0.696 -5.639 -5.676 -5.681  -5.692  -5.708  -5.726  -5.735\n",
      "..         ...    ...    ...    ...     ...     ...     ...     ...\n",
      "895      0.195 -6.055 -6.023 -6.020  -6.028  -6.014  -6.017  -6.019\n",
      "896      0.196 -6.054 -6.022 -6.019  -6.026  -6.012  -6.015  -6.017\n",
      "897      0.197 -6.052 -6.020 -6.018  -6.025  -6.011  -6.013  -6.016\n",
      "898      0.198 -6.051 -6.019 -6.016  -6.024  -6.010  -6.012  -6.014\n",
      "899      0.199 -6.049 -6.018 -6.015  -6.022  -6.008  -6.010  -6.012\n",
      "\n",
      "[900 rows x 8 columns]\n"
     ]
    }
   ],
   "source": [
    "df = pd.read_csv('eth0914.csv',header=None)\n",
    "print(df.shape)\n",
    "df.columns = columns\n",
    "print(df)"
   ]
  },
  {
   "cell_type": "code",
   "execution_count": 20,
   "metadata": {},
   "outputs": [
    {
     "name": "stdout",
     "output_type": "stream",
     "text": [
      "-0.25599999999999995\n",
      "-0.27699999999999997\n",
      "-0.283\n",
      "-0.2869999999999999\n",
      "-0.29499999999999993\n",
      "-0.30099999999999993\n",
      "-0.30499999999999994\n"
     ]
    }
   ],
   "source": [
    "c =1\n",
    "for c in range(1,8):\n",
    "    dt = df.iloc[:,c]\n",
    "    id_  = dt.idxmin()\n",
    "    v = -0.7 + 0.001*id_\n",
    "    print(v)\n",
    "    c +=1\n"
   ]
  },
  {
   "cell_type": "code",
   "execution_count": 21,
   "metadata": {},
   "outputs": [],
   "source": [
    "import random\n",
    "i =1\n",
    "c =1\n",
    "k = []\n",
    "for c in range(1,8):\n",
    "    dt = df.iloc[:,c]\n",
    "    for i in range(0,10000):\n",
    "        a, b = random.sample(range(50,150),2)\n",
    "        idmax_ = max(a,b)\n",
    "        idmin_ = min(a,b)\n",
    "        y1 = dt.iloc[idmax_,]\n",
    "        y2 = dt.iloc[idmin_,]\n",
    "        x1 = -0.7 + 0.001*idmax_\n",
    "        x2 = -0.7 + 0.001*idmin_\n",
    "        k1 = (y1-y2)/(x1-x2)\n",
    "        k.append(k1)\n",
    "        i +=1\n",
    "    c+=1"
   ]
  },
  {
   "cell_type": "code",
   "execution_count": 22,
   "metadata": {},
   "outputs": [
    {
     "name": "stdout",
     "output_type": "stream",
     "text": [
      "70000\n",
      "-2.378433925100143\n"
     ]
    }
   ],
   "source": [
    "print(len(k))\n",
    "import numpy as np\n",
    "mean_k = np.mean(k)\n",
    "print(mean_k)"
   ]
  },
  {
   "cell_type": "code",
   "execution_count": 23,
   "metadata": {},
   "outputs": [
    {
     "name": "stdout",
     "output_type": "stream",
     "text": [
      "-6.7254035982265705\n",
      "-6.720703887012099\n",
      "-6.72137343801376\n",
      "-6.7259945076498076\n",
      "-6.726458069338188\n",
      "-6.730848549085396\n",
      "-6.733396088263516\n"
     ]
    }
   ],
   "source": [
    "c = 1\n",
    "I = []\n",
    "I01 = []\n",
    "for c in range(1,8):\n",
    "    dt = df.iloc[:,c]\n",
    "    b = []\n",
    "    for i in range(0,10000):\n",
    "        c = random.randint(50,150)\n",
    "        y = dt.iloc[c,]\n",
    "        x = -0.7 + 0.001*c\n",
    "        b1 = y - mean_k*x\n",
    "        b.append(b1)\n",
    "        i +=1\n",
    "    mean_b = np.mean(b)\n",
    "    idx = dt.idxmin()\n",
    "    e0 = -0.7 + 0.001*idx\n",
    "    i0 = mean_k*e0 + mean_b\n",
    "    #I0 = 10**(i0)*1000000\n",
    "    #I01.append(I0)\n",
    "\n",
    "    print(i0)\n",
    "    I.append(i0)\n",
    "    c +=1\n",
    "    "
   ]
  },
  {
   "cell_type": "code",
   "execution_count": 24,
   "metadata": {
    "scrolled": true
   },
   "outputs": [
    {
     "name": "stdout",
     "output_type": "stream",
     "text": [
      "[-6.7254035982265705, -6.720703887012099, -6.72137343801376, -6.7259945076498076, -6.726458069338188, -6.730848549085396, -6.733396088263516]\n"
     ]
    },
    {
     "data": {
      "text/plain": [
       "[<matplotlib.lines.Line2D at 0x1262b670>]"
      ]
     },
     "execution_count": 24,
     "metadata": {},
     "output_type": "execute_result"
    },
    {
     "data": {
      "image/png": "[encoded data removed]",
      "text/plain": [
       "<Figure size 432x288 with 1 Axes>"
      ]
     },
     "metadata": {
      "needs_background": "light"
     },
     "output_type": "display_data"
    }
   ],
   "source": [
    "print(I)\n",
    "#print(I01)\n",
    "x=[20,50,80,100,150,200,250]\n",
    "plt.plot(x,I)"
   ]
  },
  {
   "cell_type": "code",
   "execution_count": 11,
   "metadata": {},
   "outputs": [
    {
     "name": "stdout",
     "output_type": "stream",
     "text": [
      "-0.31099999999999994\n",
      "-6.827426636539663\n"
     ]
    }
   ],
   "source": [
    "idx = df['100ppm'].idxmin()\n",
    "dt = df[\"100ppm\"]\n",
    "e0 = -0.7 + 0.001*idx\n",
    "print(e0)\n",
    "i0 = mean_k*e0 + mean_b\n",
    "print(i0)"
   ]
  },
  {
   "cell_type": "code",
   "execution_count": 25,
   "metadata": {},
   "outputs": [],
   "source": [
    "import random\n",
    "i =1\n",
    "c =1\n",
    "k = []\n",
    "for c in range(1,8):\n",
    "    dt = df.iloc[:,c]\n",
    "    for i in range(0,10000):\n",
    "        a, b = random.sample(range(660,740),2)\n",
    "        idmax_ = max(a,b)\n",
    "        idmin_ = min(a,b)\n",
    "        y1 = dt.iloc[idmax_,]\n",
    "        y2 = dt.iloc[idmin_,]\n",
    "        x1 = -0.7 + 0.001*idmax_\n",
    "        x2 = -0.7 + 0.001*idmin_\n",
    "        k1 = (y1-y2)/(x1-x2)\n",
    "        k.append(k1)\n",
    "        i +=1\n",
    "    c+=1"
   ]
  },
  {
   "cell_type": "code",
   "execution_count": 26,
   "metadata": {},
   "outputs": [
    {
     "name": "stdout",
     "output_type": "stream",
     "text": [
      "70000\n",
      "1.614061773603666\n"
     ]
    }
   ],
   "source": [
    "print(len(k))\n",
    "import numpy as np\n",
    "mean_k = np.mean(k)\n",
    "print(mean_k)"
   ]
  },
  {
   "cell_type": "code",
   "execution_count": 28,
   "metadata": {},
   "outputs": [
    {
     "name": "stdout",
     "output_type": "stream",
     "text": [
      "-6.768815782175384\n",
      "-6.756164568295857\n",
      "-6.751806696038101\n",
      "-6.754423267149105\n",
      "-6.746252075763058\n",
      "-6.745540298815188\n",
      "-6.743406606707341\n"
     ]
    }
   ],
   "source": [
    "c = 1\n",
    "I = []\n",
    "for c in range(1,8):\n",
    "    dt = df.iloc[:,c]\n",
    "    b = []\n",
    "    for i in range(0,10000):\n",
    "        c = random.randint(660,740)\n",
    "        y = dt.iloc[c,]\n",
    "        x = -0.7 + 0.001*c\n",
    "        b1 = y - mean_k*x\n",
    "        b.append(b1)\n",
    "        i +=1\n",
    "    mean_b = np.mean(b)\n",
    "    idx = dt.idxmin()\n",
    "    e0 = -0.7 + 0.001*idx\n",
    "    i0 = mean_k*e0 + mean_b\n",
    "\n",
    "    print(i0)\n",
    "    I.append(i0)\n",
    "    c +=1"
   ]
  },
  {
   "cell_type": "code",
   "execution_count": 29,
   "metadata": {},
   "outputs": [
    {
     "data": {
      "text/plain": [
       "[<matplotlib.lines.Line2D at 0x584bbe0>]"
      ]
     },
     "execution_count": 29,
     "metadata": {},
     "output_type": "execute_result"
    },
    {
     "data": {
      "image/png": "[encoded data removed]",
      "text/plain": [
       "<Figure size 432x288 with 1 Axes>"
      ]
     },
     "metadata": {
      "needs_background": "light"
     },
     "output_type": "display_data"
    }
   ],
   "source": [
    "x=[20,50,80,100,150,200,250]\n",
    "plt.plot(x,I)"
   ]
  },
  {
   "cell_type": "code",
   "execution_count": null,
   "metadata": {},
   "outputs": [],
   "source": []
  }
 ],
 "metadata": {
  "kernelspec": {
   "display_name": "Python 3",
   "language": "python",
   "name": "python3"
  },
  "language_info": {
   "codemirror_mode": {
    "name": "ipython",
    "version": 3
   },
   "file_extension": ".py",
   "mimetype": "text/x-python",
   "name": "python",
   "nbconvert_exporter": "python",
   "pygments_lexer": "ipython3",
   "version": "3.8.5"
  }
 },
 "nbformat": 4,
 "nbformat_minor": 4
}
