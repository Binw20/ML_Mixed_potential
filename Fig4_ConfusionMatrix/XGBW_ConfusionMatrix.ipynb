{
 "cells": [
  {
   "cell_type": "code",
   "execution_count": 2,
   "metadata": {},
   "outputs": [],
   "source": [
    "import numpy as np\n",
    "import pandas as pd\n",
    "from sklearn.model_selection import train_test_split as TTS ,cross_val_score as CSV\n",
    "from xgboost import XGBClassifier\n",
    "from sklearn.metrics import confusion_matrix\n",
    "import seaborn as sn"
   ]
  },
  {
   "cell_type": "code",
   "execution_count": 3,
   "metadata": {},
   "outputs": [
    {
     "name": "stdout",
     "output_type": "stream",
     "text": [
      "    0   1\n",
      "0  43   0\n",
      "1   7  15\n"
     ]
    },
    {
     "data": {
      "text/plain": [
       "Text(0.5, 15.0, 'Predict Value')"
      ]
     },
     "execution_count": 3,
     "metadata": {},
     "output_type": "execute_result"
    },
    {
     "data": {
      "image/png": "[encoded data removed]",
      "text/plain": [
       "<Figure size 432x288 with 2 Axes>"
      ]
     },
     "metadata": {
      "needs_background": "light"
     },
     "output_type": "display_data"
    }
   ],
   "source": [
    "df =pd.read_csv('XGBC_weight.csv')\n",
    "X = df.iloc[:,1:11]\n",
    "y = df.iloc[:,16]\n",
    "X_train,X_test,y_train,y_test = TTS (\n",
    "    X,y,test_size = 0.15,random_state = 9,stratify = y)\n",
    "\n",
    "XGBW = XGBClassifier(colsample_bytree=0.3, gamma=0.6, learning_rate=0.02, max_depth=8, \n",
    "                  min_child_weight=1, n_estimators=14, subsample=0.9)\n",
    "XGBW.fit(X_train, y_train)\n",
    "\n",
    "\n",
    "y_pred = XGBW.predict(X)\n",
    "con=confusion_matrix(y,y_pred)\n",
    "con = pd.DataFrame(con)\n",
    "print(con)\n",
    "#xticks = ['Insensitive to ${NO_2}$','Sensitive to ${NO_2}$']\n",
    "#yticks = ['Insensitive to ${NO_2}$','Sensitive to ${NO_2}$']\n",
    "shp = sn.heatmap(con,annot=True,cmap='Blues')\n",
    "                 #,xticklabels=xticks,yticklabels=yticks)\n",
    "shp.set_ylabel('True Value')\n",
    "shp.set_xlabel('Predict Value')\n",
    "#shp.set(rc={'figure.figsize':(11.7,8.27)})"
   ]
  }
 ],
 "metadata": {
  "kernelspec": {
   "display_name": "Python 3",
   "language": "python",
   "name": "python3"
  },
  "language_info": {
   "codemirror_mode": {
    "name": "ipython",
    "version": 3
   },
   "file_extension": ".py",
   "mimetype": "text/x-python",
   "name": "python",
   "nbconvert_exporter": "python",
   "pygments_lexer": "ipython3",
   "version": "3.8.5"
  }
 },
 "nbformat": 4,
 "nbformat_minor": 4
}
