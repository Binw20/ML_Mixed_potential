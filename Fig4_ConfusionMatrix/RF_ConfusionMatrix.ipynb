{
 "cells": [
  {
   "cell_type": "code",
   "execution_count": 2,
   "metadata": {},
   "outputs": [],
   "source": [
    "import numpy as np\n",
    "import pandas as pd\n",
    "from sklearn.model_selection import train_test_split as TTS ,cross_val_score as CSV\n",
    "from sklearn.pipeline import make_pipeline, make_union\n",
    "from tpot.builtins import StackingEstimator\n",
    "from sklearn.preprocessing import FunctionTransformer\n",
    "from copy import copy\n",
    "from sklearn.ensemble import RandomForestClassifier\n",
    "from sklearn.metrics import confusion_matrix\n",
    "import seaborn as sn"
   ]
  },
  {
   "cell_type": "code",
   "execution_count": 3,
   "metadata": {},
   "outputs": [
    {
     "name": "stdout",
     "output_type": "stream",
     "text": [
      "    0   1\n",
      "0  40   3\n",
      "1   5  17\n"
     ]
    },
    {
     "data": {
      "text/plain": [
       "Text(0.5, 15.0, 'Predict Value')"
      ]
     },
     "execution_count": 3,
     "metadata": {},
     "output_type": "execute_result"
    },
    {
     "data": {
      "image/png": "[encoded data removed]",
      "text/plain": [
       "<Figure size 432x288 with 2 Axes>"
      ]
     },
     "metadata": {
      "needs_background": "light"
     },
     "output_type": "display_data"
    }
   ],
   "source": [
    "df =pd.read_csv('RFC_data.csv')\n",
    "N =6\n",
    "X = df.iloc[:,1:N]\n",
    "y = df.iloc[:,16]\n",
    "X_train,X_test,y_train,y_test = TTS (\n",
    "    X,y,test_size = 0.15,random_state = 9,stratify = y)\n",
    "\n",
    "RF = RF = make_pipeline(make_union(make_union(StackingEstimator(estimator=RandomForestClassifier(max_depth=4, max_features=0.2, min_samples_leaf=4, min_samples_split=9, n_estimators=11, random_state=8)),\n",
    "            FunctionTransformer(copy)),\n",
    "                make_union(FunctionTransformer(copy),FunctionTransformer(copy))),RandomForestClassifier(max_depth=6, max_features=0.3, min_samples_leaf=5, min_samples_split=13, n_estimators=21, random_state=10))\n",
    "RF.fit(X_train, y_train)\n",
    "\n",
    "y_pred = RF.predict(X)\n",
    "con=confusion_matrix(y,y_pred)\n",
    "con = pd.DataFrame(con)\n",
    "print(con)\n",
    "#xticks = ['Insensitive to ${NO_2}$','Sensitive to ${NO_2}$']\n",
    "#yticks = ['Insensitive to ${NO_2}$','Sensitive to ${NO_2}$']\n",
    "shp = sn.heatmap(con,annot=True,cmap='Blues')\n",
    "                 #,xticklabels=xticks,yticklabels=yticks)\n",
    "shp.set_ylabel('True Value')\n",
    "shp.set_xlabel('Predict Value')"
   ]
  }
 ],
 "metadata": {
  "kernelspec": {
   "display_name": "Python 3",
   "language": "python",
   "name": "python3"
  },
  "language_info": {
   "codemirror_mode": {
    "name": "ipython",
    "version": 3
   },
   "file_extension": ".py",
   "mimetype": "text/x-python",
   "name": "python",
   "nbconvert_exporter": "python",
   "pygments_lexer": "ipython3",
   "version": "3.8.5"
  }
 },
 "nbformat": 4,
 "nbformat_minor": 4
}
