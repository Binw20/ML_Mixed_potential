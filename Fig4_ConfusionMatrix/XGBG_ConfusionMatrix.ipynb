{
 "cells": [
  {
   "cell_type": "code",
   "execution_count": 2,
   "metadata": {},
   "outputs": [],
   "source": [
    "import numpy as np\n",
    "import pandas as pd\n",
    "from sklearn.model_selection import train_test_split as TTS ,cross_val_score as CSV\n",
    "from xgboost import XGBClassifier\n",
    "from sklearn.metrics import confusion_matrix\n",
    "import seaborn as sn"
   ]
  },
  {
   "cell_type": "code",
   "execution_count": 3,
   "metadata": {},
   "outputs": [
    {
     "data": {
      "text/plain": [
       "Text(0.5, 15.0, 'Predict Value')"
      ]
     },
     "execution_count": 3,
     "metadata": {},
     "output_type": "execute_result"
    },
    {
     "data": {
      "image/png": "[encoded data removed]",
      "text/plain": [
       "<Figure size 432x288 with 2 Axes>"
      ]
     },
     "metadata": {
      "needs_background": "light"
     },
     "output_type": "display_data"
    }
   ],
   "source": [
    "df =pd.read_csv('XGB_Gain_data.csv')\n",
    "N =11\n",
    "X = df.iloc[:,1:N]\n",
    "y = df.iloc[:,15]\n",
    "\n",
    "X_train,X_test,y_train,y_test = TTS (\n",
    "        X,y,test_size = 0.15,random_state =29,stratify = y)\n",
    "GBC = XGBClassifier(colsample_bytree=0.7, gamma=0.4, learning_rate=0.4, max_depth=8, \n",
    "                    min_child_weight=1, n_estimators=26, subsample=0.4)\n",
    "GBC.fit(X_train, y_train)\n",
    "y_pred = GBC.predict(X)\n",
    "con=confusion_matrix(y,y_pred)\n",
    "con = pd.DataFrame(con)\n",
    "shp = sn.heatmap(con,annot=True,cmap='Blues')\n",
    "shp.set_ylabel('True Value')\n",
    "shp.set_xlabel('Predict Value')"
   ]
  }
 ],
 "metadata": {
  "kernelspec": {
   "display_name": "Python 3",
   "language": "python",
   "name": "python3"
  },
  "language_info": {
   "codemirror_mode": {
    "name": "ipython",
    "version": 3
   },
   "file_extension": ".py",
   "mimetype": "text/x-python",
   "name": "python",
   "nbconvert_exporter": "python",
   "pygments_lexer": "ipython3",
   "version": "3.8.5"
  }
 },
 "nbformat": 4,
 "nbformat_minor": 4
}
