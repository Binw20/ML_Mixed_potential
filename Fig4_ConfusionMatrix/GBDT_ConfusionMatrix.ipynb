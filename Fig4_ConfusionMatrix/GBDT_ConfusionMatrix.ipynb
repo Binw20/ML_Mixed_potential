{
 "cells": [
  {
   "cell_type": "code",
   "execution_count": 1,
   "metadata": {},
   "outputs": [],
   "source": [
    "import numpy as np\n",
    "import pandas as pd\n",
    "from sklearn.model_selection import train_test_split as TTS ,cross_val_score as CSV\n",
    "from xgboost import XGBClassifier\n",
    "from sklearn.ensemble import GradientBoostingClassifier\n",
    "from sklearn.metrics import confusion_matrix\n",
    "import seaborn as sn"
   ]
  },
  {
   "cell_type": "code",
   "execution_count": 3,
   "metadata": {},
   "outputs": [
    {
     "name": "stdout",
     "output_type": "stream",
     "text": [
      "    0   1\n",
      "0  41   2\n",
      "1   7  15\n"
     ]
    },
    {
     "data": {
      "text/plain": [
       "Text(0.5, 15.0, 'Predict Value')"
      ]
     },
     "execution_count": 3,
     "metadata": {},
     "output_type": "execute_result"
    },
    {
     "data": {
      "image/png": "[encoded data removed]",
      "text/plain": [
       "<Figure size 432x288 with 2 Axes>"
      ]
     },
     "metadata": {
      "needs_background": "light"
     },
     "output_type": "display_data"
    }
   ],
   "source": [
    "df =pd.read_csv('GDM_data.csv')\n",
    "N =8\n",
    "X = df.iloc[:,1:N]\n",
    "y = df.iloc[:,11]\n",
    "X_train,X_test,y_train,y_test = TTS (\n",
    "    X,y,test_size = 0.15,random_state = 9,stratify = y)\n",
    "\n",
    "GBC = GradientBoostingClassifier(learning_rate=0.3, max_depth=2, max_features=0.2, min_samples_leaf=8, \n",
    "                                  min_samples_split=6, n_estimators=20, subsample=0.6,random_state=16)\n",
    "GBC.fit(X_train, y_train)\n",
    "y_pred = GBC.predict(X)\n",
    "con=confusion_matrix(y,y_pred)\n",
    "con = pd.DataFrame(con)\n",
    "print(con)\n",
    "#xticks = ['Insensitive to ${NO_2}$','Sensitive to ${NO_2}$']\n",
    "#yticks = ['Insensitive to ${NO_2}$','Sensitive to ${NO_2}$']\n",
    "shp = sn.heatmap(con,annot=True,cmap='Blues')\n",
    "                 #,xticklabels=xticks,yticklabels=yticks)\n",
    "shp.set_ylabel('True Value')\n",
    "shp.set_xlabel('Predict Value')\n"
   ]
  },
  {
   "cell_type": "code",
   "execution_count": null,
   "metadata": {},
   "outputs": [],
   "source": []
  }
 ],
 "metadata": {
  "kernelspec": {
   "display_name": "Python 3",
   "language": "python",
   "name": "python3"
  },
  "language_info": {
   "codemirror_mode": {
    "name": "ipython",
    "version": 3
   },
   "file_extension": ".py",
   "mimetype": "text/x-python",
   "name": "python",
   "nbconvert_exporter": "python",
   "pygments_lexer": "ipython3",
   "version": "3.8.5"
  }
 },
 "nbformat": 4,
 "nbformat_minor": 4
}
