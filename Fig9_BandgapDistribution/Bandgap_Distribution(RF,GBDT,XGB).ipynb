{
 "cells": [
  {
   "cell_type": "code",
   "execution_count": 16,
   "metadata": {},
   "outputs": [],
   "source": [
    "import pandas as pd \n",
    "import matplotlib.pyplot as plt  "
   ]
  },
  {
   "cell_type": "code",
   "execution_count": 17,
   "metadata": {},
   "outputs": [
    {
     "name": "stdout",
     "output_type": "stream",
     "text": [
      "(1.5, 1.7]    110\n",
      "(1.3, 1.5]     87\n",
      "(1.7, 1.9]     42\n",
      "(0.9, 1.1]     40\n",
      "(1.1, 1.3]     30\n",
      "(2.3, 2.5]     22\n",
      "(0.5, 0.7]     22\n",
      "(1.9, 2.1]     20\n",
      "(2.1, 2.3]     16\n",
      "(0.7, 0.9]      7\n",
      "Name: band_range1, dtype: int64\n"
     ]
    },
    {
     "data": {
      "image/png": "[encoded data removed]",
      "text/plain": [
       "<Figure size 432x288 with 1 Axes>"
      ]
     },
     "metadata": {
      "needs_background": "light"
     },
     "output_type": "display_data"
    }
   ],
   "source": [
    "#bandgap statistics of RF\n",
    "dr = pd.read_csv('rfcdis.csv')\n",
    "dr['band_range1'] = pd.cut(x=dr[\"bandgap\"],bins=[0.5,0.7,0.9,1.1,1.3,1.5,1.7,1.9,2.1,2.3,2.5])\n",
    "r = dr['band_range1'].value_counts()\n",
    "print(r)\n",
    "r = [22,7,40,30,87,110,42,20,16,22]\n",
    "plt.bar(range(len(r)),r)\n",
    "plt.show()"
   ]
  },
  {
   "cell_type": "code",
   "execution_count": 18,
   "metadata": {},
   "outputs": [
    {
     "name": "stdout",
     "output_type": "stream",
     "text": [
      "(1.5, 1.7]    65\n",
      "(1.3, 1.5]    52\n",
      "(0.9, 1.1]    50\n",
      "(1.1, 1.3]    40\n",
      "(0.7, 0.9]    30\n",
      "(0.5, 0.7]    30\n",
      "(1.7, 1.9]    25\n",
      "(1.9, 2.1]    13\n",
      "(2.3, 2.5]     6\n",
      "(2.1, 2.3]     6\n",
      "Name: band_range1, dtype: int64\n"
     ]
    },
    {
     "data": {
      "image/png": "[encoded data removed]",
      "text/plain": [
       "<Figure size 432x288 with 1 Axes>"
      ]
     },
     "metadata": {
      "needs_background": "light"
     },
     "output_type": "display_data"
    }
   ],
   "source": [
    "#bandgap statistics of GBDT\n",
    "dg = pd.read_csv('GBMdis.csv')\n",
    "dg['band_range1'] = pd.cut(x=dg[\"bandgap\"],bins=[0.5,0.7,0.9,1.1,1.3,1.5,1.7,1.9,2.1,2.3,2.5])\n",
    "r = dg['band_range1'].value_counts()\n",
    "print(r)\n",
    "r = [30,30,50,40,52,65,25,13,6,6]\n",
    "plt.bar(range(len(r)),r)\n",
    "plt.show()"
   ]
  },
  {
   "cell_type": "code",
   "execution_count": 19,
   "metadata": {},
   "outputs": [
    {
     "name": "stdout",
     "output_type": "stream",
     "text": [
      "(1.5, 1.7]    69\n",
      "(1.3, 1.5]    55\n",
      "(1.7, 1.9]    37\n",
      "(1.1, 1.3]    31\n",
      "(0.9, 1.1]    29\n",
      "(0.5, 0.7]    24\n",
      "(1.9, 2.1]    23\n",
      "(2.1, 2.3]    20\n",
      "(0.7, 0.9]    14\n",
      "(2.3, 2.5]    10\n",
      "Name: band_range1, dtype: int64\n"
     ]
    },
    {
     "data": {
      "image/png": "[encoded data removed]",
      "text/plain": [
       "<Figure size 432x288 with 1 Axes>"
      ]
     },
     "metadata": {
      "needs_background": "light"
     },
     "output_type": "display_data"
    }
   ],
   "source": [
    "#bandgap statistics of XGBW\n",
    "dx = pd.read_csv('XGBdis.csv')\n",
    "dx['band_range1'] = pd.cut(x=dx[\"bandgap\"],bins=[0.5,0.7,0.9,1.1,1.3,1.5,1.7,1.9,2.1,2.3,2.5])\n",
    "r = dx['band_range1'].value_counts()\n",
    "print(r)\n",
    "r = [24,14,29,31,55,69,37,23,20,10]\n",
    "x = [0.175,0.525,0.875,1.225,1.575,1.925,2.275,2.625,2.975,3.325]\n",
    "plt.bar(range(len(r)),r)\n",
    "plt.show()"
   ]
  },
  {
   "cell_type": "code",
   "execution_count": null,
   "metadata": {},
   "outputs": [],
   "source": []
  }
 ],
 "metadata": {
  "kernelspec": {
   "display_name": "Python 3",
   "language": "python",
   "name": "python3"
  },
  "language_info": {
   "codemirror_mode": {
    "name": "ipython",
    "version": 3
   },
   "file_extension": ".py",
   "mimetype": "text/x-python",
   "name": "python",
   "nbconvert_exporter": "python",
   "pygments_lexer": "ipython3",
   "version": "3.8.5"
  }
 },
 "nbformat": 4,
 "nbformat_minor": 4
}
